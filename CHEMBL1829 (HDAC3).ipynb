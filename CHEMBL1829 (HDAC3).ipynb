{
 "cells": [
  {
   "cell_type": "code",
   "execution_count": 2,
   "metadata": {
    "_cell_guid": "b1076dfc-b9ad-4769-8c92-a6c4dae69d19",
    "_uuid": "8f2839f25d086af736a60e9eeb907d3b93b6e0e5",
    "execution": {
     "iopub.execute_input": "2025-03-28T03:57:53.169887Z",
     "iopub.status.busy": "2025-03-28T03:57:53.169300Z",
     "iopub.status.idle": "2025-03-28T03:58:02.888307Z",
     "shell.execute_reply": "2025-03-28T03:58:02.887018Z",
     "shell.execute_reply.started": "2025-03-28T03:57:53.169848Z"
    }
   },
   "outputs": [
    {
     "name": "stdout",
     "output_type": "stream",
     "text": [
      "Collecting deepchem\n",
      "  Downloading deepchem-2.8.0-py3-none-any.whl.metadata (2.0 kB)\n",
      "Requirement already satisfied: joblib in /usr/local/lib/python3.10/dist-packages (from deepchem) (1.4.2)\n",
      "Requirement already satisfied: numpy>=1.21 in /usr/local/lib/python3.10/dist-packages (from deepchem) (1.26.4)\n",
      "Requirement already satisfied: pandas in /usr/local/lib/python3.10/dist-packages (from deepchem) (2.2.3)\n",
      "Requirement already satisfied: scikit-learn in /usr/local/lib/python3.10/dist-packages (from deepchem) (1.2.2)\n",
      "Requirement already satisfied: sympy in /usr/local/lib/python3.10/dist-packages (from deepchem) (1.13.1)\n",
      "Requirement already satisfied: scipy>=1.10.1 in /usr/local/lib/python3.10/dist-packages (from deepchem) (1.13.1)\n",
      "Collecting rdkit (from deepchem)\n",
      "  Downloading rdkit-2024.9.6-cp310-cp310-manylinux_2_28_x86_64.whl.metadata (4.0 kB)\n",
      "Requirement already satisfied: mkl_fft in /usr/local/lib/python3.10/dist-packages (from numpy>=1.21->deepchem) (1.3.8)\n",
      "Requirement already satisfied: mkl_random in /usr/local/lib/python3.10/dist-packages (from numpy>=1.21->deepchem) (1.2.4)\n",
      "Requirement already satisfied: mkl_umath in /usr/local/lib/python3.10/dist-packages (from numpy>=1.21->deepchem) (0.1.1)\n",
      "Requirement already satisfied: mkl in /usr/local/lib/python3.10/dist-packages (from numpy>=1.21->deepchem) (2025.0.1)\n",
      "Requirement already satisfied: tbb4py in /usr/local/lib/python3.10/dist-packages (from numpy>=1.21->deepchem) (2022.0.0)\n",
      "Requirement already satisfied: mkl-service in /usr/local/lib/python3.10/dist-packages (from numpy>=1.21->deepchem) (2.4.1)\n",
      "Requirement already satisfied: python-dateutil>=2.8.2 in /usr/local/lib/python3.10/dist-packages (from pandas->deepchem) (2.9.0.post0)\n",
      "Requirement already satisfied: pytz>=2020.1 in /usr/local/lib/python3.10/dist-packages (from pandas->deepchem) (2025.1)\n",
      "Requirement already satisfied: tzdata>=2022.7 in /usr/local/lib/python3.10/dist-packages (from pandas->deepchem) (2025.1)\n",
      "Requirement already satisfied: Pillow in /usr/local/lib/python3.10/dist-packages (from rdkit->deepchem) (11.0.0)\n",
      "Requirement already satisfied: threadpoolctl>=2.0.0 in /usr/local/lib/python3.10/dist-packages (from scikit-learn->deepchem) (3.5.0)\n",
      "Requirement already satisfied: mpmath<1.4,>=1.1.0 in /usr/local/lib/python3.10/dist-packages (from sympy->deepchem) (1.3.0)\n",
      "Requirement already satisfied: six>=1.5 in /usr/local/lib/python3.10/dist-packages (from python-dateutil>=2.8.2->pandas->deepchem) (1.17.0)\n",
      "Requirement already satisfied: intel-openmp>=2024 in /usr/local/lib/python3.10/dist-packages (from mkl->numpy>=1.21->deepchem) (2024.2.0)\n",
      "Requirement already satisfied: tbb==2022.* in /usr/local/lib/python3.10/dist-packages (from mkl->numpy>=1.21->deepchem) (2022.0.0)\n",
      "Requirement already satisfied: tcmlib==1.* in /usr/local/lib/python3.10/dist-packages (from tbb==2022.*->mkl->numpy>=1.21->deepchem) (1.2.0)\n",
      "Requirement already satisfied: intel-cmplr-lib-rt in /usr/local/lib/python3.10/dist-packages (from mkl_umath->numpy>=1.21->deepchem) (2024.2.0)\n",
      "Requirement already satisfied: intel-cmplr-lib-ur==2024.2.0 in /usr/local/lib/python3.10/dist-packages (from intel-openmp>=2024->mkl->numpy>=1.21->deepchem) (2024.2.0)\n",
      "Downloading deepchem-2.8.0-py3-none-any.whl (1.0 MB)\n",
      "\u001b[2K   \u001b[90m━━━━━━━━━━━━━━━━━━━━━━━━━━━━━━━━━━━━━━━━\u001b[0m \u001b[32m1.0/1.0 MB\u001b[0m \u001b[31m13.9 MB/s\u001b[0m eta \u001b[36m0:00:00\u001b[0m00:01\u001b[0m0:01\u001b[0m\n",
      "\u001b[?25hDownloading rdkit-2024.9.6-cp310-cp310-manylinux_2_28_x86_64.whl (34.3 MB)\n",
      "\u001b[2K   \u001b[90m━━━━━━━━━━━━━━━━━━━━━━━━━━━━━━━━━━━━━━━━\u001b[0m \u001b[32m34.3/34.3 MB\u001b[0m \u001b[31m49.8 MB/s\u001b[0m eta \u001b[36m0:00:00\u001b[0m:00:01\u001b[0m00:01\u001b[0m\n",
      "\u001b[?25hInstalling collected packages: rdkit, deepchem\n",
      "Successfully installed deepchem-2.8.0 rdkit-2024.9.6\n"
     ]
    }
   ],
   "source": [
    "!pip install deepchem"
   ]
  },
  {
   "cell_type": "markdown",
   "metadata": {},
   "source": [
    "**Random Forest**"
   ]
  },
  {
   "cell_type": "code",
   "execution_count": 38,
   "metadata": {
    "execution": {
     "iopub.execute_input": "2025-03-25T15:35:32.931168Z",
     "iopub.status.busy": "2025-03-25T15:35:32.930735Z",
     "iopub.status.idle": "2025-03-25T15:35:32.937205Z",
     "shell.execute_reply": "2025-03-25T15:35:32.935461Z",
     "shell.execute_reply.started": "2025-03-25T15:35:32.931133Z"
    }
   },
   "outputs": [],
   "source": [
    "import pandas as pd\n",
    "import numpy as np\n",
    "from sklearn.ensemble import RandomForestClassifier\n",
    "from sklearn.model_selection import train_test_split\n",
    "from sklearn.metrics import accuracy_score, classification_report, confusion_matrix\n",
    "from rdkit import Chem\n",
    "from rdkit.ML.Descriptors import MoleculeDescriptors\n",
    "from rdkit.Chem import Descriptors"
   ]
  },
  {
   "cell_type": "code",
   "execution_count": 39,
   "metadata": {
    "execution": {
     "iopub.execute_input": "2025-03-25T15:36:11.454867Z",
     "iopub.status.busy": "2025-03-25T15:36:11.454463Z",
     "iopub.status.idle": "2025-03-25T15:36:12.278315Z",
     "shell.execute_reply": "2025-03-25T15:36:12.277327Z",
     "shell.execute_reply.started": "2025-03-25T15:36:11.454838Z"
    }
   },
   "outputs": [],
   "source": [
    "# Load dataset\n",
    "file_path = \"/kaggle/input/chembl-dataset/chembl_5thresh.csv\"\n",
    "data = pd.read_csv(file_path)\n"
   ]
  },
  {
   "cell_type": "code",
   "execution_count": 40,
   "metadata": {
    "execution": {
     "iopub.execute_input": "2025-03-25T15:36:25.584828Z",
     "iopub.status.busy": "2025-03-25T15:36:25.584374Z",
     "iopub.status.idle": "2025-03-25T15:36:25.594789Z",
     "shell.execute_reply": "2025-03-25T15:36:25.593763Z",
     "shell.execute_reply.started": "2025-03-25T15:36:25.584793Z"
    }
   },
   "outputs": [],
   "source": [
    "# Filter rows where 'CHEMBL1829' is not missing\n",
    "df_target = data[data['CHEMBL1829'].notna()][['smiles', 'CHEMBL1829']].reset_index(drop=True)"
   ]
  },
  {
   "cell_type": "code",
   "execution_count": 41,
   "metadata": {
    "execution": {
     "iopub.execute_input": "2025-03-25T15:36:34.408299Z",
     "iopub.status.busy": "2025-03-25T15:36:34.407943Z",
     "iopub.status.idle": "2025-03-25T15:36:34.415346Z",
     "shell.execute_reply": "2025-03-25T15:36:34.414264Z",
     "shell.execute_reply.started": "2025-03-25T15:36:34.408264Z"
    }
   },
   "outputs": [
    {
     "name": "stdout",
     "output_type": "stream",
     "text": [
      "Class Distribution:\n",
      " label\n",
      "1    370\n",
      "0     38\n",
      "Name: count, dtype: int64\n"
     ]
    }
   ],
   "source": [
    "# Create a binary label: 1 if CHEMBL1829 >= 5 (active), else 0 (inactive)\n",
    "df_target['label'] = (df_target['CHEMBL1829'] >= 5).astype(int)\n",
    "print(\"Class Distribution:\\n\", df_target['label'].value_counts())"
   ]
  },
  {
   "cell_type": "code",
   "execution_count": 42,
   "metadata": {
    "execution": {
     "iopub.execute_input": "2025-03-25T15:36:45.953875Z",
     "iopub.status.busy": "2025-03-25T15:36:45.953531Z",
     "iopub.status.idle": "2025-03-25T15:36:45.958421Z",
     "shell.execute_reply": "2025-03-25T15:36:45.957345Z",
     "shell.execute_reply.started": "2025-03-25T15:36:45.953849Z"
    }
   },
   "outputs": [],
   "source": [
    "# Generate molecular descriptors\n",
    "descriptor_list = [desc[0] for desc in Descriptors._descList]\n",
    "calculator = MoleculeDescriptors.MolecularDescriptorCalculator(descriptor_list)"
   ]
  },
  {
   "cell_type": "code",
   "execution_count": 43,
   "metadata": {
    "execution": {
     "iopub.execute_input": "2025-03-25T15:36:55.710793Z",
     "iopub.status.busy": "2025-03-25T15:36:55.710375Z",
     "iopub.status.idle": "2025-03-25T15:37:02.491074Z",
     "shell.execute_reply": "2025-03-25T15:37:02.489951Z",
     "shell.execute_reply.started": "2025-03-25T15:36:55.710760Z"
    }
   },
   "outputs": [],
   "source": [
    "# Compute descriptors and handle invalid SMILES\n",
    "X_ml = []\n",
    "invalid_smiles = []\n",
    "\n",
    "for i, s in enumerate(df_target['smiles']):\n",
    "    mol = Chem.MolFromSmiles(s)\n",
    "    if mol:\n",
    "        X_ml.append(calculator.CalcDescriptors(mol))\n",
    "    else:\n",
    "        invalid_smiles.append(i)"
   ]
  },
  {
   "cell_type": "code",
   "execution_count": 44,
   "metadata": {
    "execution": {
     "iopub.execute_input": "2025-03-25T15:37:11.645007Z",
     "iopub.status.busy": "2025-03-25T15:37:11.644643Z",
     "iopub.status.idle": "2025-03-25T15:37:11.649184Z",
     "shell.execute_reply": "2025-03-25T15:37:11.648273Z",
     "shell.execute_reply.started": "2025-03-25T15:37:11.644976Z"
    }
   },
   "outputs": [],
   "source": [
    "# Remove rows with invalid SMILES\n",
    "if invalid_smiles:\n",
    "    print(f\"Removing {len(invalid_smiles)} invalid SMILES.\")\n",
    "    df_target.drop(index=invalid_smiles, inplace=True)"
   ]
  },
  {
   "cell_type": "code",
   "execution_count": 45,
   "metadata": {
    "execution": {
     "iopub.execute_input": "2025-03-25T15:37:20.540392Z",
     "iopub.status.busy": "2025-03-25T15:37:20.540087Z",
     "iopub.status.idle": "2025-03-25T15:37:20.554807Z",
     "shell.execute_reply": "2025-03-25T15:37:20.553664Z",
     "shell.execute_reply.started": "2025-03-25T15:37:20.540367Z"
    }
   },
   "outputs": [],
   "source": [
    "# Convert descriptors to a NumPy array\n",
    "X_ml = np.array(X_ml)\n",
    "y = df_target['label'].values"
   ]
  },
  {
   "cell_type": "code",
   "execution_count": 46,
   "metadata": {
    "execution": {
     "iopub.execute_input": "2025-03-25T15:37:30.036210Z",
     "iopub.status.busy": "2025-03-25T15:37:30.035889Z",
     "iopub.status.idle": "2025-03-25T15:37:30.041089Z",
     "shell.execute_reply": "2025-03-25T15:37:30.040071Z",
     "shell.execute_reply.started": "2025-03-25T15:37:30.036184Z"
    }
   },
   "outputs": [
    {
     "name": "stdout",
     "output_type": "stream",
     "text": [
      "Descriptor matrix shape: (408, 217)\n"
     ]
    }
   ],
   "source": [
    "print(f\"Descriptor matrix shape: {X_ml.shape}\")"
   ]
  },
  {
   "cell_type": "code",
   "execution_count": 47,
   "metadata": {
    "execution": {
     "iopub.execute_input": "2025-03-25T15:37:42.033818Z",
     "iopub.status.busy": "2025-03-25T15:37:42.033312Z",
     "iopub.status.idle": "2025-03-25T15:37:42.039299Z",
     "shell.execute_reply": "2025-03-25T15:37:42.038292Z",
     "shell.execute_reply.started": "2025-03-25T15:37:42.033769Z"
    }
   },
   "outputs": [],
   "source": [
    "# Split data into train and test sets\n",
    "X_train, X_test, y_train, y_test = train_test_split(X_ml, y, test_size=0.2, random_state=42)"
   ]
  },
  {
   "cell_type": "code",
   "execution_count": 48,
   "metadata": {
    "execution": {
     "iopub.execute_input": "2025-03-25T15:37:48.917549Z",
     "iopub.status.busy": "2025-03-25T15:37:48.917190Z",
     "iopub.status.idle": "2025-03-25T15:37:48.921882Z",
     "shell.execute_reply": "2025-03-25T15:37:48.920711Z",
     "shell.execute_reply.started": "2025-03-25T15:37:48.917518Z"
    }
   },
   "outputs": [],
   "source": [
    "# Initialize RandomForest model\n",
    "rf_model = RandomForestClassifier(n_estimators=100, random_state=42)\n"
   ]
  },
  {
   "cell_type": "code",
   "execution_count": 49,
   "metadata": {
    "execution": {
     "iopub.execute_input": "2025-03-25T15:38:02.354559Z",
     "iopub.status.busy": "2025-03-25T15:38:02.354127Z",
     "iopub.status.idle": "2025-03-25T15:38:02.594713Z",
     "shell.execute_reply": "2025-03-25T15:38:02.593700Z",
     "shell.execute_reply.started": "2025-03-25T15:38:02.354522Z"
    }
   },
   "outputs": [
    {
     "data": {
      "text/html": [
       "<style>#sk-container-id-2 {color: black;background-color: white;}#sk-container-id-2 pre{padding: 0;}#sk-container-id-2 div.sk-toggleable {background-color: white;}#sk-container-id-2 label.sk-toggleable__label {cursor: pointer;display: block;width: 100%;margin-bottom: 0;padding: 0.3em;box-sizing: border-box;text-align: center;}#sk-container-id-2 label.sk-toggleable__label-arrow:before {content: \"▸\";float: left;margin-right: 0.25em;color: #696969;}#sk-container-id-2 label.sk-toggleable__label-arrow:hover:before {color: black;}#sk-container-id-2 div.sk-estimator:hover label.sk-toggleable__label-arrow:before {color: black;}#sk-container-id-2 div.sk-toggleable__content {max-height: 0;max-width: 0;overflow: hidden;text-align: left;background-color: #f0f8ff;}#sk-container-id-2 div.sk-toggleable__content pre {margin: 0.2em;color: black;border-radius: 0.25em;background-color: #f0f8ff;}#sk-container-id-2 input.sk-toggleable__control:checked~div.sk-toggleable__content {max-height: 200px;max-width: 100%;overflow: auto;}#sk-container-id-2 input.sk-toggleable__control:checked~label.sk-toggleable__label-arrow:before {content: \"▾\";}#sk-container-id-2 div.sk-estimator input.sk-toggleable__control:checked~label.sk-toggleable__label {background-color: #d4ebff;}#sk-container-id-2 div.sk-label input.sk-toggleable__control:checked~label.sk-toggleable__label {background-color: #d4ebff;}#sk-container-id-2 input.sk-hidden--visually {border: 0;clip: rect(1px 1px 1px 1px);clip: rect(1px, 1px, 1px, 1px);height: 1px;margin: -1px;overflow: hidden;padding: 0;position: absolute;width: 1px;}#sk-container-id-2 div.sk-estimator {font-family: monospace;background-color: #f0f8ff;border: 1px dotted black;border-radius: 0.25em;box-sizing: border-box;margin-bottom: 0.5em;}#sk-container-id-2 div.sk-estimator:hover {background-color: #d4ebff;}#sk-container-id-2 div.sk-parallel-item::after {content: \"\";width: 100%;border-bottom: 1px solid gray;flex-grow: 1;}#sk-container-id-2 div.sk-label:hover label.sk-toggleable__label {background-color: #d4ebff;}#sk-container-id-2 div.sk-serial::before {content: \"\";position: absolute;border-left: 1px solid gray;box-sizing: border-box;top: 0;bottom: 0;left: 50%;z-index: 0;}#sk-container-id-2 div.sk-serial {display: flex;flex-direction: column;align-items: center;background-color: white;padding-right: 0.2em;padding-left: 0.2em;position: relative;}#sk-container-id-2 div.sk-item {position: relative;z-index: 1;}#sk-container-id-2 div.sk-parallel {display: flex;align-items: stretch;justify-content: center;background-color: white;position: relative;}#sk-container-id-2 div.sk-item::before, #sk-container-id-2 div.sk-parallel-item::before {content: \"\";position: absolute;border-left: 1px solid gray;box-sizing: border-box;top: 0;bottom: 0;left: 50%;z-index: -1;}#sk-container-id-2 div.sk-parallel-item {display: flex;flex-direction: column;z-index: 1;position: relative;background-color: white;}#sk-container-id-2 div.sk-parallel-item:first-child::after {align-self: flex-end;width: 50%;}#sk-container-id-2 div.sk-parallel-item:last-child::after {align-self: flex-start;width: 50%;}#sk-container-id-2 div.sk-parallel-item:only-child::after {width: 0;}#sk-container-id-2 div.sk-dashed-wrapped {border: 1px dashed gray;margin: 0 0.4em 0.5em 0.4em;box-sizing: border-box;padding-bottom: 0.4em;background-color: white;}#sk-container-id-2 div.sk-label label {font-family: monospace;font-weight: bold;display: inline-block;line-height: 1.2em;}#sk-container-id-2 div.sk-label-container {text-align: center;}#sk-container-id-2 div.sk-container {/* jupyter's `normalize.less` sets `[hidden] { display: none; }` but bootstrap.min.css set `[hidden] { display: none !important; }` so we also need the `!important` here to be able to override the default hidden behavior on the sphinx rendered scikit-learn.org. See: https://github.com/scikit-learn/scikit-learn/issues/21755 */display: inline-block !important;position: relative;}#sk-container-id-2 div.sk-text-repr-fallback {display: none;}</style><div id=\"sk-container-id-2\" class=\"sk-top-container\"><div class=\"sk-text-repr-fallback\"><pre>RandomForestClassifier(random_state=42)</pre><b>In a Jupyter environment, please rerun this cell to show the HTML representation or trust the notebook. <br />On GitHub, the HTML representation is unable to render, please try loading this page with nbviewer.org.</b></div><div class=\"sk-container\" hidden><div class=\"sk-item\"><div class=\"sk-estimator sk-toggleable\"><input class=\"sk-toggleable__control sk-hidden--visually\" id=\"sk-estimator-id-2\" type=\"checkbox\" checked><label for=\"sk-estimator-id-2\" class=\"sk-toggleable__label sk-toggleable__label-arrow\">RandomForestClassifier</label><div class=\"sk-toggleable__content\"><pre>RandomForestClassifier(random_state=42)</pre></div></div></div></div></div>"
      ],
      "text/plain": [
       "RandomForestClassifier(random_state=42)"
      ]
     },
     "execution_count": 49,
     "metadata": {},
     "output_type": "execute_result"
    }
   ],
   "source": [
    "# Train model\n",
    "rf_model.fit(X_train, y_train)"
   ]
  },
  {
   "cell_type": "code",
   "execution_count": 50,
   "metadata": {
    "execution": {
     "iopub.execute_input": "2025-03-25T15:38:10.524888Z",
     "iopub.status.busy": "2025-03-25T15:38:10.524553Z",
     "iopub.status.idle": "2025-03-25T15:38:10.539400Z",
     "shell.execute_reply": "2025-03-25T15:38:10.538558Z",
     "shell.execute_reply.started": "2025-03-25T15:38:10.524862Z"
    }
   },
   "outputs": [],
   "source": [
    "# Make predictions\n",
    "y_pred = rf_model.predict(X_test)"
   ]
  },
  {
   "cell_type": "code",
   "execution_count": 64,
   "metadata": {
    "execution": {
     "iopub.execute_input": "2025-03-25T16:17:44.646686Z",
     "iopub.status.busy": "2025-03-25T16:17:44.646222Z",
     "iopub.status.idle": "2025-03-25T16:17:44.669028Z",
     "shell.execute_reply": "2025-03-25T16:17:44.667572Z",
     "shell.execute_reply.started": "2025-03-25T16:17:44.646645Z"
    }
   },
   "outputs": [
    {
     "name": "stdout",
     "output_type": "stream",
     "text": [
      "Accuracy: 0.926829268292683\n",
      "Test Accuracy: 92.68%\n",
      "\n",
      "Classification Report:\n",
      "               precision    recall  f1-score   support\n",
      "\n",
      "           0       1.00      0.14      0.25         7\n",
      "           1       0.93      1.00      0.96        75\n",
      "\n",
      "    accuracy                           0.93        82\n",
      "   macro avg       0.96      0.57      0.61        82\n",
      "weighted avg       0.93      0.93      0.90        82\n",
      "\n",
      "\n",
      "Confusion Matrix:\n",
      " [[ 1  6]\n",
      " [ 0 75]]\n"
     ]
    }
   ],
   "source": [
    "# Evaluate model\n",
    "print(\"Accuracy:\", accuracy_score(y_test, y_pred))\n",
    "print(f\"Test Accuracy: {accuracy_score(y_test, y_pred) * 100:.2f}%\")\n",
    "print(\"\\nClassification Report:\\n\", classification_report(y_test, y_pred))\n",
    "print(\"\\nConfusion Matrix:\\n\", confusion_matrix(y_test, y_pred))"
   ]
  },
  {
   "cell_type": "code",
   "execution_count": 65,
   "metadata": {
    "execution": {
     "iopub.execute_input": "2025-03-25T16:18:33.396532Z",
     "iopub.status.busy": "2025-03-25T16:18:33.396098Z",
     "iopub.status.idle": "2025-03-25T16:18:33.474586Z",
     "shell.execute_reply": "2025-03-25T16:18:33.473504Z",
     "shell.execute_reply.started": "2025-03-25T16:18:33.396467Z"
    }
   },
   "outputs": [
    {
     "name": "stdout",
     "output_type": "stream",
     "text": [
      "\n",
      "Feature Importances:\n",
      " BCUT2D_MWLOW    0.020945\n",
      "EState_VSA3     0.019783\n",
      "qed             0.019567\n",
      "BCUT2D_MRLOW    0.018869\n",
      "PEOE_VSA7       0.017890\n",
      "                  ...   \n",
      "fr_guanido      0.000000\n",
      "fr_hdrzine      0.000000\n",
      "fr_hdrzone      0.000000\n",
      "fr_imide        0.000000\n",
      "fr_urea         0.000000\n",
      "Length: 217, dtype: float64\n",
      "Binding Affinity: ACTIVE (Confidence: 0.75)\n"
     ]
    }
   ],
   "source": [
    "# Feature importance\n",
    "importances = pd.Series(rf_model.feature_importances_, index=descriptor_list)\n",
    "print(\"\\nFeature Importances:\\n\", importances.sort_values(ascending=False))\n",
    "\n",
    "# Function to check binding affinity\n",
    "def check_binding_affinity(smiles_input):\n",
    "    mol = Chem.MolFromSmiles(smiles_input)\n",
    "    if not mol:\n",
    "        return \"Invalid SMILES.\"\n",
    "\n",
    "    # Generate descriptors for the input molecule\n",
    "    input_descriptor = np.array(calculator.CalcDescriptors(mol)).reshape(1, -1)\n",
    "\n",
    "    # Predict binding affinity (1: Active, 0: Inactive)\n",
    "    prediction = rf_model.predict(input_descriptor)[0]\n",
    "    probability = rf_model.predict_proba(input_descriptor)[0][1]\n",
    "\n",
    "    if prediction == 1:\n",
    "        return f\"Binding Affinity: ACTIVE (Confidence: {probability:.2f})\"\n",
    "    else:\n",
    "        return f\"Binding Affinity: INACTIVE (Confidence: {probability:.2f})\"\n",
    "\n",
    "# Example usage\n",
    "smiles_example = \"COc1ccccc1N2CCN(CCCCCNC(=O)c3nnn(Cc4ccccc4)c3C)CC2\"  # Replace with a valid SMILES\n",
    "print(check_binding_affinity(smiles_example))\n"
   ]
  },
  {
   "cell_type": "code",
   "execution_count": 68,
   "metadata": {
    "execution": {
     "iopub.execute_input": "2025-03-25T16:27:27.503508Z",
     "iopub.status.busy": "2025-03-25T16:27:27.503110Z",
     "iopub.status.idle": "2025-03-25T16:27:38.378441Z",
     "shell.execute_reply": "2025-03-25T16:27:38.377332Z",
     "shell.execute_reply.started": "2025-03-25T16:27:27.503453Z"
    }
   },
   "outputs": [
    {
     "name": "stdout",
     "output_type": "stream",
     "text": [
      "Binding affinity results saved to /kaggle/working/rf_binding_affinity_results.csv\n"
     ]
    }
   ],
   "source": [
    "# Create a function to check the binding affinity for all molecules\n",
    "def check_binding_affinity_all(df):\n",
    "    # List to store results\n",
    "    results = []\n",
    "\n",
    "    for i, s in enumerate(df['smiles']):\n",
    "        mol = Chem.MolFromSmiles(s)\n",
    "        if mol:\n",
    "            # Generate descriptors for the molecule\n",
    "            input_descriptor = np.array(calculator.CalcDescriptors(mol)).reshape(1, -1)\n",
    "\n",
    "            # Predict binding affinity (1: Active, 0: Inactive)\n",
    "            prediction = rf_model.predict(input_descriptor)[0]\n",
    "            probability = rf_model.predict_proba(input_descriptor)[0][1]\n",
    "\n",
    "            # Store the result\n",
    "            binding_affinity = \"ACTIVE\" if prediction == 1 else \"INACTIVE\"\n",
    "            confidence = probability\n",
    "            results.append([s, binding_affinity, confidence])\n",
    "        else:\n",
    "            results.append([s, \"Invalid SMILES\", None])\n",
    "\n",
    "    # Convert results to a DataFrame\n",
    "    results_df = pd.DataFrame(results, columns=[\"smiles\", \"binding_affinity\", \"confidence\"])\n",
    "\n",
    "    return results_df\n",
    "\n",
    "# Check binding affinity for all molecules\n",
    "results_df = check_binding_affinity_all(df_target)\n",
    "\n",
    "# Save the results to a CSV file\n",
    "output_file_path = r\"/kaggle/working/rf_binding_affinity_results.csv\"\n",
    "results_df.to_csv(output_file_path, index=False)\n",
    "\n",
    "print(f\"Binding affinity results saved to {output_file_path}\")\n"
   ]
  },
  {
   "cell_type": "markdown",
   "metadata": {},
   "source": [
    "**Support Vector Machine**"
   ]
  },
  {
   "cell_type": "code",
   "execution_count": 3,
   "metadata": {
    "execution": {
     "iopub.execute_input": "2025-03-28T03:58:21.775535Z",
     "iopub.status.busy": "2025-03-28T03:58:21.775144Z",
     "iopub.status.idle": "2025-03-28T03:58:22.074910Z",
     "shell.execute_reply": "2025-03-28T03:58:22.074079Z",
     "shell.execute_reply.started": "2025-03-28T03:58:21.775497Z"
    }
   },
   "outputs": [],
   "source": [
    "import pandas as pd\n",
    "import numpy as np\n",
    "from sklearn.svm import SVC\n",
    "from sklearn.model_selection import train_test_split, StratifiedKFold, GridSearchCV\n",
    "from sklearn.preprocessing import StandardScaler\n",
    "from sklearn.metrics import accuracy_score, classification_report, confusion_matrix\n",
    "from imblearn.over_sampling import SMOTE\n",
    "from rdkit import Chem\n",
    "from rdkit.ML.Descriptors import MoleculeDescriptors\n",
    "from rdkit.Chem import Descriptors"
   ]
  },
  {
   "cell_type": "code",
   "execution_count": 4,
   "metadata": {
    "execution": {
     "iopub.execute_input": "2025-03-28T03:58:57.472599Z",
     "iopub.status.busy": "2025-03-28T03:58:57.472248Z",
     "iopub.status.idle": "2025-03-28T03:58:58.453307Z",
     "shell.execute_reply": "2025-03-28T03:58:58.452211Z",
     "shell.execute_reply.started": "2025-03-28T03:58:57.472572Z"
    }
   },
   "outputs": [],
   "source": [
    "# oad dataset\n",
    "file_path = \"/kaggle/input/chembl-dataset/chembl_5thresh.csv\"\n",
    "data = pd.read_csv(file_path)"
   ]
  },
  {
   "cell_type": "code",
   "execution_count": 5,
   "metadata": {
    "execution": {
     "iopub.execute_input": "2025-03-28T03:59:18.075721Z",
     "iopub.status.busy": "2025-03-28T03:59:18.075332Z",
     "iopub.status.idle": "2025-03-28T03:59:18.107691Z",
     "shell.execute_reply": "2025-03-28T03:59:18.106814Z",
     "shell.execute_reply.started": "2025-03-28T03:59:18.075693Z"
    }
   },
   "outputs": [
    {
     "name": "stdout",
     "output_type": "stream",
     "text": [
      "Class Distribution:\n",
      " label\n",
      "1    370\n",
      "0     38\n",
      "Name: count, dtype: int64\n"
     ]
    }
   ],
   "source": [
    "df_target = data[data['CHEMBL1829'].notna()][['smiles', 'CHEMBL1829']].reset_index(drop=True)\n",
    "df_target['label'] = (df_target['CHEMBL1829'] >= 5).astype(int)\n",
    "\n",
    "print(\"Class Distribution:\\n\", df_target['label'].value_counts())"
   ]
  },
  {
   "cell_type": "code",
   "execution_count": 6,
   "metadata": {
    "execution": {
     "iopub.execute_input": "2025-03-28T03:59:41.449729Z",
     "iopub.status.busy": "2025-03-28T03:59:41.449338Z",
     "iopub.status.idle": "2025-03-28T03:59:48.440947Z",
     "shell.execute_reply": "2025-03-28T03:59:48.440008Z",
     "shell.execute_reply.started": "2025-03-28T03:59:41.449701Z"
    }
   },
   "outputs": [
    {
     "name": "stdout",
     "output_type": "stream",
     "text": [
      "Descriptor matrix shape: (408, 217)\n"
     ]
    }
   ],
   "source": [
    "# Generate molecular descriptors\n",
    "descriptor_list = [desc[0] for desc in Descriptors._descList]\n",
    "calculator = MoleculeDescriptors.MolecularDescriptorCalculator(descriptor_list)\n",
    "\n",
    "X_ml = []\n",
    "invalid_smiles = []\n",
    "for i, s in enumerate(df_target['smiles']):\n",
    "    mol = Chem.MolFromSmiles(s)\n",
    "    if mol:\n",
    "        X_ml.append(calculator.CalcDescriptors(mol))\n",
    "    else:\n",
    "        invalid_smiles.append(i)\n",
    "\n",
    "if invalid_smiles:\n",
    "    print(f\"Removing {len(invalid_smiles)} invalid SMILES.\")\n",
    "    df_target.drop(index=invalid_smiles, inplace=True)\n",
    "\n",
    "X_ml = np.array(X_ml)\n",
    "y = df_target['label'].values\n",
    "\n",
    "print(f\"Descriptor matrix shape: {X_ml.shape}\")"
   ]
  },
  {
   "cell_type": "code",
   "execution_count": 7,
   "metadata": {
    "execution": {
     "iopub.execute_input": "2025-03-28T04:00:02.245180Z",
     "iopub.status.busy": "2025-03-28T04:00:02.244845Z",
     "iopub.status.idle": "2025-03-28T04:00:02.268729Z",
     "shell.execute_reply": "2025-03-28T04:00:02.267793Z",
     "shell.execute_reply.started": "2025-03-28T04:00:02.245155Z"
    }
   },
   "outputs": [],
   "source": [
    "# Feature scaling\n",
    "scaler = StandardScaler()\n",
    "X_ml = scaler.fit_transform(X_ml)\n"
   ]
  },
  {
   "cell_type": "code",
   "execution_count": 8,
   "metadata": {
    "execution": {
     "iopub.execute_input": "2025-03-28T04:00:17.510220Z",
     "iopub.status.busy": "2025-03-28T04:00:17.509883Z",
     "iopub.status.idle": "2025-03-28T04:00:17.610700Z",
     "shell.execute_reply": "2025-03-28T04:00:17.609754Z",
     "shell.execute_reply.started": "2025-03-28T04:00:17.510196Z"
    }
   },
   "outputs": [],
   "source": [
    "# Addressing class imbalance with SMOTE\n",
    "smote = SMOTE(random_state=42)\n",
    "X_ml, y = smote.fit_resample(X_ml, y)"
   ]
  },
  {
   "cell_type": "code",
   "execution_count": 9,
   "metadata": {
    "execution": {
     "iopub.execute_input": "2025-03-28T04:00:34.864531Z",
     "iopub.status.busy": "2025-03-28T04:00:34.864150Z",
     "iopub.status.idle": "2025-03-28T04:00:34.875125Z",
     "shell.execute_reply": "2025-03-28T04:00:34.874169Z",
     "shell.execute_reply.started": "2025-03-28T04:00:34.864500Z"
    }
   },
   "outputs": [],
   "source": [
    "# Split data\n",
    "X_train, X_test, y_train, y_test = train_test_split(X_ml, y, test_size=0.2, random_state=42, stratify=y)"
   ]
  },
  {
   "cell_type": "code",
   "execution_count": 10,
   "metadata": {
    "execution": {
     "iopub.execute_input": "2025-03-28T04:00:48.872088Z",
     "iopub.status.busy": "2025-03-28T04:00:48.871756Z",
     "iopub.status.idle": "2025-03-28T04:00:56.247066Z",
     "shell.execute_reply": "2025-03-28T04:00:56.246060Z",
     "shell.execute_reply.started": "2025-03-28T04:00:48.872062Z"
    }
   },
   "outputs": [
    {
     "name": "stdout",
     "output_type": "stream",
     "text": [
      "Fitting 5 folds for each of 12 candidates, totalling 60 fits\n",
      "[CV] END ..................C=0.1, gamma=scale, kernel=linear; total time=   0.1s\n",
      "[CV] END ..................C=0.1, gamma=scale, kernel=linear; total time=   0.1s\n",
      "[CV] END ..................C=0.1, gamma=scale, kernel=linear; total time=   0.1s\n",
      "[CV] END ..................C=0.1, gamma=scale, kernel=linear; total time=   0.1s\n",
      "[CV] END ..................C=0.1, gamma=scale, kernel=linear; total time=   0.1s\n",
      "[CV] END .....................C=0.1, gamma=scale, kernel=rbf; total time=   0.2s\n",
      "[CV] END .....................C=0.1, gamma=scale, kernel=rbf; total time=   0.2s\n",
      "[CV] END .....................C=0.1, gamma=scale, kernel=rbf; total time=   0.2s\n",
      "[CV] END .....................C=0.1, gamma=scale, kernel=rbf; total time=   0.2s\n",
      "[CV] END .....................C=0.1, gamma=scale, kernel=rbf; total time=   0.2s\n",
      "[CV] END ...................C=0.1, gamma=auto, kernel=linear; total time=   0.1s\n",
      "[CV] END ...................C=0.1, gamma=auto, kernel=linear; total time=   0.1s\n",
      "[CV] END ...................C=0.1, gamma=auto, kernel=linear; total time=   0.1s\n",
      "[CV] END ...................C=0.1, gamma=auto, kernel=linear; total time=   0.1s\n",
      "[CV] END ...................C=0.1, gamma=auto, kernel=linear; total time=   0.1s\n",
      "[CV] END ......................C=0.1, gamma=auto, kernel=rbf; total time=   0.2s\n",
      "[CV] END ......................C=0.1, gamma=auto, kernel=rbf; total time=   0.2s\n",
      "[CV] END ......................C=0.1, gamma=auto, kernel=rbf; total time=   0.2s\n",
      "[CV] END ......................C=0.1, gamma=auto, kernel=rbf; total time=   0.2s\n",
      "[CV] END ......................C=0.1, gamma=auto, kernel=rbf; total time=   0.2s\n",
      "[CV] END ....................C=1, gamma=scale, kernel=linear; total time=   0.2s\n",
      "[CV] END ....................C=1, gamma=scale, kernel=linear; total time=   0.1s\n",
      "[CV] END ....................C=1, gamma=scale, kernel=linear; total time=   0.1s\n",
      "[CV] END ....................C=1, gamma=scale, kernel=linear; total time=   0.1s\n",
      "[CV] END ....................C=1, gamma=scale, kernel=linear; total time=   0.1s\n",
      "[CV] END .......................C=1, gamma=scale, kernel=rbf; total time=   0.1s\n",
      "[CV] END .......................C=1, gamma=scale, kernel=rbf; total time=   0.1s\n",
      "[CV] END .......................C=1, gamma=scale, kernel=rbf; total time=   0.1s\n",
      "[CV] END .......................C=1, gamma=scale, kernel=rbf; total time=   0.1s\n",
      "[CV] END .......................C=1, gamma=scale, kernel=rbf; total time=   0.1s\n",
      "[CV] END .....................C=1, gamma=auto, kernel=linear; total time=   0.2s\n",
      "[CV] END .....................C=1, gamma=auto, kernel=linear; total time=   0.1s\n",
      "[CV] END .....................C=1, gamma=auto, kernel=linear; total time=   0.1s\n",
      "[CV] END .....................C=1, gamma=auto, kernel=linear; total time=   0.1s\n",
      "[CV] END .....................C=1, gamma=auto, kernel=linear; total time=   0.1s\n",
      "[CV] END ........................C=1, gamma=auto, kernel=rbf; total time=   0.1s\n",
      "[CV] END ........................C=1, gamma=auto, kernel=rbf; total time=   0.1s\n",
      "[CV] END ........................C=1, gamma=auto, kernel=rbf; total time=   0.1s\n",
      "[CV] END ........................C=1, gamma=auto, kernel=rbf; total time=   0.1s\n",
      "[CV] END ........................C=1, gamma=auto, kernel=rbf; total time=   0.1s\n",
      "[CV] END ...................C=10, gamma=scale, kernel=linear; total time=   0.2s\n",
      "[CV] END ...................C=10, gamma=scale, kernel=linear; total time=   0.2s\n",
      "[CV] END ...................C=10, gamma=scale, kernel=linear; total time=   0.2s\n",
      "[CV] END ...................C=10, gamma=scale, kernel=linear; total time=   0.1s\n",
      "[CV] END ...................C=10, gamma=scale, kernel=linear; total time=   0.2s\n",
      "[CV] END ......................C=10, gamma=scale, kernel=rbf; total time=   0.1s\n",
      "[CV] END ......................C=10, gamma=scale, kernel=rbf; total time=   0.1s\n",
      "[CV] END ......................C=10, gamma=scale, kernel=rbf; total time=   0.1s\n",
      "[CV] END ......................C=10, gamma=scale, kernel=rbf; total time=   0.1s\n",
      "[CV] END ......................C=10, gamma=scale, kernel=rbf; total time=   0.1s\n",
      "[CV] END ....................C=10, gamma=auto, kernel=linear; total time=   0.2s\n",
      "[CV] END ....................C=10, gamma=auto, kernel=linear; total time=   0.2s\n",
      "[CV] END ....................C=10, gamma=auto, kernel=linear; total time=   0.2s\n",
      "[CV] END ....................C=10, gamma=auto, kernel=linear; total time=   0.1s\n",
      "[CV] END ....................C=10, gamma=auto, kernel=linear; total time=   0.2s\n",
      "[CV] END .......................C=10, gamma=auto, kernel=rbf; total time=   0.1s\n",
      "[CV] END .......................C=10, gamma=auto, kernel=rbf; total time=   0.1s\n",
      "[CV] END .......................C=10, gamma=auto, kernel=rbf; total time=   0.1s\n",
      "[CV] END .......................C=10, gamma=auto, kernel=rbf; total time=   0.1s\n",
      "[CV] END .......................C=10, gamma=auto, kernel=rbf; total time=   0.1s\n"
     ]
    }
   ],
   "source": [
    "# Hyperparameter tuning\n",
    "param_grid = {'C': [0.1, 1, 10], 'kernel': ['linear', 'rbf'], 'gamma': ['scale', 'auto']}\n",
    "svm_model = SVC(probability=True, class_weight='balanced', random_state=42)\n",
    "cv = StratifiedKFold(n_splits=5, shuffle=True, random_state=42)\n",
    "grid_search = GridSearchCV(svm_model, param_grid, scoring='f1_weighted', cv=cv, verbose=2)\n",
    "grid_search.fit(X_train, y_train)\n",
    "\n",
    "best_model = grid_search.best_estimator_\n"
   ]
  },
  {
   "cell_type": "code",
   "execution_count": 11,
   "metadata": {
    "execution": {
     "iopub.execute_input": "2025-03-28T04:01:18.577901Z",
     "iopub.status.busy": "2025-03-28T04:01:18.577557Z",
     "iopub.status.idle": "2025-03-28T04:01:18.602750Z",
     "shell.execute_reply": "2025-03-28T04:01:18.601690Z",
     "shell.execute_reply.started": "2025-03-28T04:01:18.577875Z"
    }
   },
   "outputs": [
    {
     "name": "stdout",
     "output_type": "stream",
     "text": [
      "Best Parameters: {'C': 10, 'gamma': 'scale', 'kernel': 'rbf'}\n",
      "Accuracy: 0.9797297297297297\n",
      "Test Accuracy: 97.97%\n",
      "\n",
      "Classification Report:\n",
      "               precision    recall  f1-score   support\n",
      "\n",
      "           0       0.97      0.99      0.98        74\n",
      "           1       0.99      0.97      0.98        74\n",
      "\n",
      "    accuracy                           0.98       148\n",
      "   macro avg       0.98      0.98      0.98       148\n",
      "weighted avg       0.98      0.98      0.98       148\n",
      "\n",
      "\n",
      "Confusion Matrix:\n",
      " [[73  1]\n",
      " [ 2 72]]\n"
     ]
    }
   ],
   "source": [
    "# Evaluate model\n",
    "y_pred = best_model.predict(X_test)\n",
    "print(\"Best Parameters:\", grid_search.best_params_)\n",
    "print(\"Accuracy:\", accuracy_score(y_test, y_pred))\n",
    "print(f\"Test Accuracy: {accuracy_score(y_test, y_pred) * 100:.2f}%\")\n",
    "print(\"\\nClassification Report:\\n\", classification_report(y_test, y_pred))\n",
    "print(\"\\nConfusion Matrix:\\n\", confusion_matrix(y_test, y_pred))"
   ]
  },
  {
   "cell_type": "code",
   "execution_count": 12,
   "metadata": {
    "execution": {
     "iopub.execute_input": "2025-03-28T04:03:55.929283Z",
     "iopub.status.busy": "2025-03-28T04:03:55.928945Z",
     "iopub.status.idle": "2025-03-28T04:03:55.935095Z",
     "shell.execute_reply": "2025-03-28T04:03:55.933855Z",
     "shell.execute_reply.started": "2025-03-28T04:03:55.929257Z"
    }
   },
   "outputs": [],
   "source": [
    "# Function to check binding affinity\n",
    "def check_binding_affinity(smiles_input):\n",
    "    mol = Chem.MolFromSmiles(smiles_input)\n",
    "    if not mol:\n",
    "        return \"Invalid SMILES.\"\n",
    "\n",
    "    input_descriptor = np.array(calculator.CalcDescriptors(mol)).reshape(1, -1)\n",
    "    input_descriptor = scaler.transform(input_descriptor)\n",
    "\n",
    "    prediction = best_model.predict(input_descriptor)[0]\n",
    "    probability = best_model.predict_proba(input_descriptor)[0][1]\n",
    "\n",
    "    if prediction == 1:\n",
    "        return f\"Binding Affinity: ACTIVE (Confidence: {probability:.2f})\"\n",
    "    else:\n",
    "        return f\"Binding Affinity: INACTIVE (Confidence: {probability:.2f})\"\n"
   ]
  },
  {
   "cell_type": "code",
   "execution_count": 13,
   "metadata": {
    "execution": {
     "iopub.execute_input": "2025-03-28T04:04:21.858021Z",
     "iopub.status.busy": "2025-03-28T04:04:21.857642Z",
     "iopub.status.idle": "2025-03-28T04:04:29.259318Z",
     "shell.execute_reply": "2025-03-28T04:04:29.258420Z",
     "shell.execute_reply.started": "2025-03-28T04:04:21.857989Z"
    }
   },
   "outputs": [
    {
     "name": "stdout",
     "output_type": "stream",
     "text": [
      "Binding affinity results saved to /kaggle/working/binding_affinity_results_svm_improved.csv\n"
     ]
    }
   ],
   "source": [
    "# Save predictions for all molecules\n",
    "def check_binding_affinity_all(df):\n",
    "    results = []\n",
    "    for i, s in enumerate(df['smiles']):\n",
    "        mol = Chem.MolFromSmiles(s)\n",
    "        if mol:\n",
    "            input_descriptor = np.array(calculator.CalcDescriptors(mol)).reshape(1, -1)\n",
    "            input_descriptor = scaler.transform(input_descriptor)\n",
    "\n",
    "            prediction = best_model.predict(input_descriptor)[0]\n",
    "            probability = best_model.predict_proba(input_descriptor)[0][1]\n",
    "\n",
    "            binding_affinity = \"ACTIVE\" if prediction == 1 else \"INACTIVE\"\n",
    "            results.append([s, binding_affinity, probability])\n",
    "        else:\n",
    "            results.append([s, \"Invalid SMILES\", None])\n",
    "\n",
    "    results_df = pd.DataFrame(results, columns=[\"smiles\", \"binding_affinity\", \"confidence\"])\n",
    "    return results_df\n",
    "\n",
    "results_df = check_binding_affinity_all(df_target)\n",
    "output_file_path = \"/kaggle/working/binding_affinity_results_svm_improved.csv\"\n",
    "results_df.to_csv(output_file_path, index=False)\n",
    "print(f\"Binding affinity results saved to {output_file_path}\")"
   ]
  },
  {
   "cell_type": "markdown",
   "metadata": {},
   "source": [
    "**Graph Neural Network**"
   ]
  },
  {
   "cell_type": "code",
   "execution_count": 94,
   "metadata": {
    "execution": {
     "iopub.execute_input": "2025-03-25T16:51:10.034881Z",
     "iopub.status.busy": "2025-03-25T16:51:10.034443Z",
     "iopub.status.idle": "2025-03-25T16:51:14.333839Z",
     "shell.execute_reply": "2025-03-25T16:51:14.332519Z",
     "shell.execute_reply.started": "2025-03-25T16:51:10.034846Z"
    }
   },
   "outputs": [
    {
     "name": "stdout",
     "output_type": "stream",
     "text": [
      "Requirement already satisfied: torch in /usr/local/lib/python3.10/dist-packages (2.5.1+cu121)\n",
      "Requirement already satisfied: torchvision in /usr/local/lib/python3.10/dist-packages (0.20.1+cu121)\n",
      "Requirement already satisfied: torchaudio in /usr/local/lib/python3.10/dist-packages (2.5.1+cu121)\n",
      "Requirement already satisfied: filelock in /usr/local/lib/python3.10/dist-packages (from torch) (3.17.0)\n",
      "Requirement already satisfied: typing-extensions>=4.8.0 in /usr/local/lib/python3.10/dist-packages (from torch) (4.12.2)\n",
      "Requirement already satisfied: networkx in /usr/local/lib/python3.10/dist-packages (from torch) (3.4.2)\n",
      "Requirement already satisfied: jinja2 in /usr/local/lib/python3.10/dist-packages (from torch) (3.1.4)\n",
      "Requirement already satisfied: fsspec in /usr/local/lib/python3.10/dist-packages (from torch) (2024.12.0)\n",
      "Requirement already satisfied: sympy==1.13.1 in /usr/local/lib/python3.10/dist-packages (from torch) (1.13.1)\n",
      "Requirement already satisfied: mpmath<1.4,>=1.1.0 in /usr/local/lib/python3.10/dist-packages (from sympy==1.13.1->torch) (1.3.0)\n",
      "Requirement already satisfied: numpy in /usr/local/lib/python3.10/dist-packages (from torchvision) (1.26.4)\n",
      "Requirement already satisfied: pillow!=8.3.*,>=5.3.0 in /usr/local/lib/python3.10/dist-packages (from torchvision) (11.0.0)\n",
      "Requirement already satisfied: MarkupSafe>=2.0 in /usr/local/lib/python3.10/dist-packages (from jinja2->torch) (3.0.2)\n",
      "Requirement already satisfied: mkl_fft in /usr/local/lib/python3.10/dist-packages (from numpy->torchvision) (1.3.8)\n",
      "Requirement already satisfied: mkl_random in /usr/local/lib/python3.10/dist-packages (from numpy->torchvision) (1.2.4)\n",
      "Requirement already satisfied: mkl_umath in /usr/local/lib/python3.10/dist-packages (from numpy->torchvision) (0.1.1)\n",
      "Requirement already satisfied: mkl in /usr/local/lib/python3.10/dist-packages (from numpy->torchvision) (2025.0.1)\n",
      "Requirement already satisfied: tbb4py in /usr/local/lib/python3.10/dist-packages (from numpy->torchvision) (2022.0.0)\n",
      "Requirement already satisfied: mkl-service in /usr/local/lib/python3.10/dist-packages (from numpy->torchvision) (2.4.1)\n",
      "Requirement already satisfied: intel-openmp>=2024 in /usr/local/lib/python3.10/dist-packages (from mkl->numpy->torchvision) (2024.2.0)\n",
      "Requirement already satisfied: tbb==2022.* in /usr/local/lib/python3.10/dist-packages (from mkl->numpy->torchvision) (2022.0.0)\n",
      "Requirement already satisfied: tcmlib==1.* in /usr/local/lib/python3.10/dist-packages (from tbb==2022.*->mkl->numpy->torchvision) (1.2.0)\n",
      "Requirement already satisfied: intel-cmplr-lib-rt in /usr/local/lib/python3.10/dist-packages (from mkl_umath->numpy->torchvision) (2024.2.0)\n",
      "Requirement already satisfied: intel-cmplr-lib-ur==2024.2.0 in /usr/local/lib/python3.10/dist-packages (from intel-openmp>=2024->mkl->numpy->torchvision) (2024.2.0)\n"
     ]
    }
   ],
   "source": [
    "!pip install torch torchvision torchaudio"
   ]
  },
  {
   "cell_type": "code",
   "execution_count": 95,
   "metadata": {
    "execution": {
     "iopub.execute_input": "2025-03-25T16:51:17.769258Z",
     "iopub.status.busy": "2025-03-25T16:51:17.768757Z",
     "iopub.status.idle": "2025-03-25T16:51:22.125193Z",
     "shell.execute_reply": "2025-03-25T16:51:22.123810Z",
     "shell.execute_reply.started": "2025-03-25T16:51:17.769215Z"
    }
   },
   "outputs": [
    {
     "name": "stdout",
     "output_type": "stream",
     "text": [
      "Requirement already satisfied: torch-geometric in /usr/local/lib/python3.10/dist-packages (2.6.1)\n",
      "Requirement already satisfied: aiohttp in /usr/local/lib/python3.10/dist-packages (from torch-geometric) (3.11.12)\n",
      "Requirement already satisfied: fsspec in /usr/local/lib/python3.10/dist-packages (from torch-geometric) (2024.12.0)\n",
      "Requirement already satisfied: jinja2 in /usr/local/lib/python3.10/dist-packages (from torch-geometric) (3.1.4)\n",
      "Requirement already satisfied: numpy in /usr/local/lib/python3.10/dist-packages (from torch-geometric) (1.26.4)\n",
      "Requirement already satisfied: psutil>=5.8.0 in /usr/local/lib/python3.10/dist-packages (from torch-geometric) (5.9.5)\n",
      "Requirement already satisfied: pyparsing in /usr/local/lib/python3.10/dist-packages (from torch-geometric) (3.2.0)\n",
      "Requirement already satisfied: requests in /usr/local/lib/python3.10/dist-packages (from torch-geometric) (2.32.3)\n",
      "Requirement already satisfied: tqdm in /usr/local/lib/python3.10/dist-packages (from torch-geometric) (4.67.1)\n",
      "Requirement already satisfied: aiohappyeyeballs>=2.3.0 in /usr/local/lib/python3.10/dist-packages (from aiohttp->torch-geometric) (2.4.6)\n",
      "Requirement already satisfied: aiosignal>=1.1.2 in /usr/local/lib/python3.10/dist-packages (from aiohttp->torch-geometric) (1.3.2)\n",
      "Requirement already satisfied: async-timeout<6.0,>=4.0 in /usr/local/lib/python3.10/dist-packages (from aiohttp->torch-geometric) (5.0.1)\n",
      "Requirement already satisfied: attrs>=17.3.0 in /usr/local/lib/python3.10/dist-packages (from aiohttp->torch-geometric) (25.1.0)\n",
      "Requirement already satisfied: frozenlist>=1.1.1 in /usr/local/lib/python3.10/dist-packages (from aiohttp->torch-geometric) (1.5.0)\n",
      "Requirement already satisfied: multidict<7.0,>=4.5 in /usr/local/lib/python3.10/dist-packages (from aiohttp->torch-geometric) (6.1.0)\n",
      "Requirement already satisfied: propcache>=0.2.0 in /usr/local/lib/python3.10/dist-packages (from aiohttp->torch-geometric) (0.2.1)\n",
      "Requirement already satisfied: yarl<2.0,>=1.17.0 in /usr/local/lib/python3.10/dist-packages (from aiohttp->torch-geometric) (1.18.3)\n",
      "Requirement already satisfied: MarkupSafe>=2.0 in /usr/local/lib/python3.10/dist-packages (from jinja2->torch-geometric) (3.0.2)\n",
      "Requirement already satisfied: mkl_fft in /usr/local/lib/python3.10/dist-packages (from numpy->torch-geometric) (1.3.8)\n",
      "Requirement already satisfied: mkl_random in /usr/local/lib/python3.10/dist-packages (from numpy->torch-geometric) (1.2.4)\n",
      "Requirement already satisfied: mkl_umath in /usr/local/lib/python3.10/dist-packages (from numpy->torch-geometric) (0.1.1)\n",
      "Requirement already satisfied: mkl in /usr/local/lib/python3.10/dist-packages (from numpy->torch-geometric) (2025.0.1)\n",
      "Requirement already satisfied: tbb4py in /usr/local/lib/python3.10/dist-packages (from numpy->torch-geometric) (2022.0.0)\n",
      "Requirement already satisfied: mkl-service in /usr/local/lib/python3.10/dist-packages (from numpy->torch-geometric) (2.4.1)\n",
      "Requirement already satisfied: charset-normalizer<4,>=2 in /usr/local/lib/python3.10/dist-packages (from requests->torch-geometric) (3.4.1)\n",
      "Requirement already satisfied: idna<4,>=2.5 in /usr/local/lib/python3.10/dist-packages (from requests->torch-geometric) (3.10)\n",
      "Requirement already satisfied: urllib3<3,>=1.21.1 in /usr/local/lib/python3.10/dist-packages (from requests->torch-geometric) (2.3.0)\n",
      "Requirement already satisfied: certifi>=2017.4.17 in /usr/local/lib/python3.10/dist-packages (from requests->torch-geometric) (2025.1.31)\n",
      "Requirement already satisfied: typing-extensions>=4.1.0 in /usr/local/lib/python3.10/dist-packages (from multidict<7.0,>=4.5->aiohttp->torch-geometric) (4.12.2)\n",
      "Requirement already satisfied: intel-openmp>=2024 in /usr/local/lib/python3.10/dist-packages (from mkl->numpy->torch-geometric) (2024.2.0)\n",
      "Requirement already satisfied: tbb==2022.* in /usr/local/lib/python3.10/dist-packages (from mkl->numpy->torch-geometric) (2022.0.0)\n",
      "Requirement already satisfied: tcmlib==1.* in /usr/local/lib/python3.10/dist-packages (from tbb==2022.*->mkl->numpy->torch-geometric) (1.2.0)\n",
      "Requirement already satisfied: intel-cmplr-lib-rt in /usr/local/lib/python3.10/dist-packages (from mkl_umath->numpy->torch-geometric) (2024.2.0)\n",
      "Requirement already satisfied: intel-cmplr-lib-ur==2024.2.0 in /usr/local/lib/python3.10/dist-packages (from intel-openmp>=2024->mkl->numpy->torch-geometric) (2024.2.0)\n"
     ]
    }
   ],
   "source": [
    "!pip install torch-geometric"
   ]
  },
  {
   "cell_type": "code",
   "execution_count": 96,
   "metadata": {
    "execution": {
     "iopub.execute_input": "2025-03-25T16:51:25.432242Z",
     "iopub.status.busy": "2025-03-25T16:51:25.431836Z",
     "iopub.status.idle": "2025-03-25T16:51:25.438512Z",
     "shell.execute_reply": "2025-03-25T16:51:25.437255Z",
     "shell.execute_reply.started": "2025-03-25T16:51:25.432207Z"
    }
   },
   "outputs": [],
   "source": [
    "import pandas as pd\n",
    "import numpy as np\n",
    "import torch\n",
    "from torch import nn\n",
    "from torch_geometric.data import Data, Dataset, DataLoader\n",
    "from torch_geometric.nn import GCNConv, global_mean_pool\n",
    "from torch.nn import functional as F\n",
    "from sklearn.metrics import accuracy_score, classification_report, confusion_matrix\n",
    "from sklearn.model_selection import train_test_split\n",
    "from rdkit import Chem\n",
    "from rdkit.Chem import rdchem"
   ]
  },
  {
   "cell_type": "code",
   "execution_count": 99,
   "metadata": {
    "execution": {
     "iopub.execute_input": "2025-03-25T16:52:27.472498Z",
     "iopub.status.busy": "2025-03-25T16:52:27.472104Z",
     "iopub.status.idle": "2025-03-25T16:52:28.262718Z",
     "shell.execute_reply": "2025-03-25T16:52:28.261664Z",
     "shell.execute_reply.started": "2025-03-25T16:52:27.472444Z"
    }
   },
   "outputs": [],
   "source": [
    "# Load dataset\n",
    "file_path = \"/kaggle/input/chembl-dataset/chembl_5thresh.csv\"\n",
    "data = pd.read_csv(file_path)"
   ]
  },
  {
   "cell_type": "code",
   "execution_count": 100,
   "metadata": {
    "execution": {
     "iopub.execute_input": "2025-03-25T16:52:33.760059Z",
     "iopub.status.busy": "2025-03-25T16:52:33.759576Z",
     "iopub.status.idle": "2025-03-25T16:52:33.770644Z",
     "shell.execute_reply": "2025-03-25T16:52:33.769601Z",
     "shell.execute_reply.started": "2025-03-25T16:52:33.760015Z"
    }
   },
   "outputs": [],
   "source": [
    "# Filter rows where 'CHEMBL1829' is not missing\n",
    "df_target = data[data['CHEMBL1829'].notna()][['smiles', 'CHEMBL1829']].reset_index(drop=True)"
   ]
  },
  {
   "cell_type": "code",
   "execution_count": 101,
   "metadata": {
    "execution": {
     "iopub.execute_input": "2025-03-25T16:52:59.861239Z",
     "iopub.status.busy": "2025-03-25T16:52:59.860663Z",
     "iopub.status.idle": "2025-03-25T16:52:59.874875Z",
     "shell.execute_reply": "2025-03-25T16:52:59.873554Z",
     "shell.execute_reply.started": "2025-03-25T16:52:59.861143Z"
    }
   },
   "outputs": [
    {
     "name": "stdout",
     "output_type": "stream",
     "text": [
      "Class Distribution:\n",
      " label\n",
      "1    370\n",
      "0     38\n",
      "Name: count, dtype: int64\n"
     ]
    }
   ],
   "source": [
    "# Create a binary label: 1 if CHEMBL1829 >= 5 (active), else 0 (inactive)\n",
    "df_target['label'] = (df_target['CHEMBL1829'] >= 5).astype(int)\n",
    "print(\"Class Distribution:\\n\", df_target['label'].value_counts())"
   ]
  },
  {
   "cell_type": "code",
   "execution_count": 103,
   "metadata": {
    "execution": {
     "iopub.execute_input": "2025-03-25T16:53:27.571230Z",
     "iopub.status.busy": "2025-03-25T16:53:27.570894Z",
     "iopub.status.idle": "2025-03-25T16:53:27.577959Z",
     "shell.execute_reply": "2025-03-25T16:53:27.576847Z",
     "shell.execute_reply.started": "2025-03-25T16:53:27.571202Z"
    }
   },
   "outputs": [],
   "source": [
    "#Helper function to convert SMILES to Graph\n",
    "def mol_to_graph(smiles, label):\n",
    "    mol = Chem.MolFromSmiles(smiles)\n",
    "    if not mol:\n",
    "        return None\n",
    "    \n",
    "    # Atom features (atomic number)\n",
    "    x = torch.tensor([atom.GetAtomicNum() for atom in mol.GetAtoms()], dtype=torch.float).view(-1, 1)\n",
    "\n",
    "    # Edge features (bonds)\n",
    "    edge_index = []\n",
    "    for bond in mol.GetBonds():\n",
    "        start, end = bond.GetBeginAtomIdx(), bond.GetEndAtomIdx()\n",
    "        edge_index.append((start, end))\n",
    "        edge_index.append((end, start))\n",
    "\n",
    "    edge_index = torch.tensor(edge_index, dtype=torch.long).t().contiguous()\n",
    "\n",
    "    # Graph data object\n",
    "    return Data(x=x, edge_index=edge_index, y=torch.tensor([label], dtype=torch.float))\n",
    "\n"
   ]
  },
  {
   "cell_type": "code",
   "execution_count": 104,
   "metadata": {
    "execution": {
     "iopub.execute_input": "2025-03-25T16:53:46.719095Z",
     "iopub.status.busy": "2025-03-25T16:53:46.718760Z",
     "iopub.status.idle": "2025-03-25T16:53:47.043087Z",
     "shell.execute_reply": "2025-03-25T16:53:47.041807Z",
     "shell.execute_reply.started": "2025-03-25T16:53:46.719068Z"
    }
   },
   "outputs": [
    {
     "name": "stdout",
     "output_type": "stream",
     "text": [
      "Valid Graphs: 408\n"
     ]
    }
   ],
   "source": [
    "# Create graph dataset\n",
    "graphs = [mol_to_graph(smiles, label) for smiles, label in zip(df_target['smiles'], df_target['label'])]\n",
    "graphs = [g for g in graphs if g is not None]\n",
    "\n",
    "print(f\"Valid Graphs: {len(graphs)}\")"
   ]
  },
  {
   "cell_type": "code",
   "execution_count": 105,
   "metadata": {
    "execution": {
     "iopub.execute_input": "2025-03-25T16:54:02.124300Z",
     "iopub.status.busy": "2025-03-25T16:54:02.123976Z",
     "iopub.status.idle": "2025-03-25T16:54:02.132302Z",
     "shell.execute_reply": "2025-03-25T16:54:02.130974Z",
     "shell.execute_reply.started": "2025-03-25T16:54:02.124274Z"
    }
   },
   "outputs": [],
   "source": [
    "# Split dataset\n",
    "train_data, test_data = train_test_split(graphs, test_size=0.2, random_state=42)\n",
    "train_loader = DataLoader(train_data, batch_size=32, shuffle=True)\n",
    "test_loader = DataLoader(test_data, batch_size=32, shuffle=False)"
   ]
  },
  {
   "cell_type": "code",
   "execution_count": 117,
   "metadata": {
    "execution": {
     "iopub.execute_input": "2025-03-25T17:05:14.560987Z",
     "iopub.status.busy": "2025-03-25T17:05:14.560619Z",
     "iopub.status.idle": "2025-03-25T17:05:14.570129Z",
     "shell.execute_reply": "2025-03-25T17:05:14.569032Z",
     "shell.execute_reply.started": "2025-03-25T17:05:14.560960Z"
    }
   },
   "outputs": [],
   "source": [
    "class GNNClassifier(nn.Module):\n",
    "    def __init__(self, in_channels, hidden_dim=128, out_channels=1, dropout=0.4):\n",
    "        super(GNNClassifier, self).__init__()\n",
    "        self.conv1 = GCNConv(in_channels, hidden_dim)\n",
    "        self.bn1 = nn.BatchNorm1d(hidden_dim)  # BatchNorm after the first GCN layer\n",
    "\n",
    "        self.conv2 = GCNConv(hidden_dim, hidden_dim)\n",
    "        self.bn2 = nn.BatchNorm1d(hidden_dim)  # BatchNorm after the second GCN layer\n",
    "\n",
    "        self.conv3 = GCNConv(hidden_dim, hidden_dim)\n",
    "        self.bn3 = nn.BatchNorm1d(hidden_dim)  # BatchNorm after the third GCN layer\n",
    "\n",
    "        self.fc = nn.Linear(hidden_dim, out_channels)\n",
    "        self.dropout = dropout\n",
    "\n",
    "    def forward(self, data):\n",
    "        x, edge_index, batch = data.x, data.edge_index, data.batch\n",
    "\n",
    "        x = F.relu(self.bn1(self.conv1(x, edge_index)))\n",
    "        x = F.dropout(x, p=self.dropout, training=self.training)\n",
    "\n",
    "        x = F.relu(self.bn2(self.conv2(x, edge_index)))\n",
    "        x = F.dropout(x, p=self.dropout, training=self.training)\n",
    "\n",
    "        x = F.relu(self.bn3(self.conv3(x, edge_index)))\n",
    "        x = F.dropout(x, p=self.dropout, training=self.training)\n",
    "\n",
    "        x = global_mean_pool(x, batch)  # Global pooling\n",
    "\n",
    "        x = self.fc(x)\n",
    "        return torch.sigmoid(x).view(-1)\n"
   ]
  },
  {
   "cell_type": "code",
   "execution_count": 118,
   "metadata": {
    "execution": {
     "iopub.execute_input": "2025-03-25T17:05:18.089431Z",
     "iopub.status.busy": "2025-03-25T17:05:18.088978Z",
     "iopub.status.idle": "2025-03-25T17:05:18.104141Z",
     "shell.execute_reply": "2025-03-25T17:05:18.103041Z",
     "shell.execute_reply.started": "2025-03-25T17:05:18.089389Z"
    }
   },
   "outputs": [],
   "source": [
    "# Initialize model\n",
    "device = torch.device('cuda' if torch.cuda.is_available() else 'cpu')\n",
    "model = GNNClassifier(in_channels=1).to(device)\n",
    "optimizer = torch.optim.Adam(model.parameters(), lr=0.001)\n",
    "criterion = nn.BCELoss()"
   ]
  },
  {
   "cell_type": "code",
   "execution_count": 119,
   "metadata": {
    "execution": {
     "iopub.execute_input": "2025-03-25T17:05:20.588772Z",
     "iopub.status.busy": "2025-03-25T17:05:20.588412Z",
     "iopub.status.idle": "2025-03-25T17:05:20.594023Z",
     "shell.execute_reply": "2025-03-25T17:05:20.592844Z",
     "shell.execute_reply.started": "2025-03-25T17:05:20.588744Z"
    }
   },
   "outputs": [],
   "source": [
    "# Train GNN Model\n",
    "def train():\n",
    "    model.train()\n",
    "    total_loss = 0\n",
    "    for data in train_loader:\n",
    "        data = data.to(device)\n",
    "        optimizer.zero_grad()\n",
    "        out = model(data)\n",
    "        loss = criterion(out, data.y)\n",
    "        loss.backward()\n",
    "        optimizer.step()\n",
    "        total_loss += loss.item()\n",
    "    return total_loss / len(train_loader)"
   ]
  },
  {
   "cell_type": "code",
   "execution_count": 120,
   "metadata": {
    "execution": {
     "iopub.execute_input": "2025-03-25T17:05:23.494308Z",
     "iopub.status.busy": "2025-03-25T17:05:23.493963Z",
     "iopub.status.idle": "2025-03-25T17:05:23.499725Z",
     "shell.execute_reply": "2025-03-25T17:05:23.498561Z",
     "shell.execute_reply.started": "2025-03-25T17:05:23.494277Z"
    }
   },
   "outputs": [],
   "source": [
    "# Evaluate Model\n",
    "def evaluate(loader):\n",
    "    model.eval()\n",
    "    y_true, y_pred = [], []\n",
    "    with torch.no_grad():\n",
    "        for data in loader:\n",
    "            data = data.to(device)\n",
    "            out = model(data)\n",
    "            y_true.extend(data.y.cpu().numpy())\n",
    "            y_pred.extend((out.cpu().numpy() >= 0.5).astype(int))\n",
    "    return y_true, y_pred"
   ]
  },
  {
   "cell_type": "code",
   "execution_count": 121,
   "metadata": {
    "execution": {
     "iopub.execute_input": "2025-03-25T17:05:26.113415Z",
     "iopub.status.busy": "2025-03-25T17:05:26.113051Z",
     "iopub.status.idle": "2025-03-25T17:05:56.079233Z",
     "shell.execute_reply": "2025-03-25T17:05:56.078060Z",
     "shell.execute_reply.started": "2025-03-25T17:05:26.113385Z"
    }
   },
   "outputs": [
    {
     "name": "stdout",
     "output_type": "stream",
     "text": [
      "Epoch 1, Loss: 0.6269\n",
      "Epoch 2, Loss: 0.4571\n",
      "Epoch 3, Loss: 0.3626\n",
      "Epoch 4, Loss: 0.3576\n",
      "Epoch 5, Loss: 0.3235\n",
      "Epoch 6, Loss: 0.3235\n",
      "Epoch 7, Loss: 0.3327\n",
      "Epoch 8, Loss: 0.3152\n",
      "Epoch 9, Loss: 0.3206\n",
      "Epoch 10, Loss: 0.2829\n",
      "Epoch 11, Loss: 0.3117\n",
      "Epoch 12, Loss: 0.2845\n",
      "Epoch 13, Loss: 0.2768\n",
      "Epoch 14, Loss: 0.3000\n",
      "Epoch 15, Loss: 0.2788\n",
      "Epoch 16, Loss: 0.2796\n",
      "Epoch 17, Loss: 0.2757\n",
      "Epoch 18, Loss: 0.3791\n",
      "Epoch 19, Loss: 0.2773\n",
      "Epoch 20, Loss: 0.2735\n",
      "Epoch 21, Loss: 0.2777\n",
      "Epoch 22, Loss: 0.2966\n",
      "Epoch 23, Loss: 0.2786\n",
      "Epoch 24, Loss: 0.2808\n",
      "Epoch 25, Loss: 0.3449\n",
      "Epoch 26, Loss: 0.2810\n",
      "Epoch 27, Loss: 0.2807\n",
      "Epoch 28, Loss: 0.2724\n",
      "Epoch 29, Loss: 0.2809\n",
      "Epoch 30, Loss: 0.2745\n",
      "Epoch 31, Loss: 0.2664\n",
      "Epoch 32, Loss: 0.2942\n",
      "Epoch 33, Loss: 0.2753\n",
      "Epoch 34, Loss: 0.2763\n",
      "Epoch 35, Loss: 0.3035\n",
      "Epoch 36, Loss: 0.3167\n",
      "Epoch 37, Loss: 0.2697\n",
      "Epoch 38, Loss: 0.3031\n",
      "Epoch 39, Loss: 0.2790\n",
      "Epoch 40, Loss: 0.2661\n",
      "Epoch 41, Loss: 0.2740\n",
      "Epoch 42, Loss: 0.2677\n",
      "Epoch 43, Loss: 0.2713\n",
      "Epoch 44, Loss: 0.3058\n",
      "Epoch 45, Loss: 0.2636\n",
      "Epoch 46, Loss: 0.2742\n",
      "Epoch 47, Loss: 0.3173\n",
      "Epoch 48, Loss: 0.2825\n",
      "Epoch 49, Loss: 0.3000\n",
      "Epoch 50, Loss: 0.2688\n",
      "Epoch 51, Loss: 0.3235\n",
      "Epoch 52, Loss: 0.2637\n",
      "Epoch 53, Loss: 0.2699\n",
      "Epoch 54, Loss: 0.2681\n",
      "Epoch 55, Loss: 0.3007\n",
      "Epoch 56, Loss: 0.2693\n",
      "Epoch 57, Loss: 0.2660\n",
      "Epoch 58, Loss: 0.2830\n",
      "Epoch 59, Loss: 0.2675\n",
      "Epoch 60, Loss: 0.2952\n",
      "Epoch 61, Loss: 0.2982\n",
      "Epoch 62, Loss: 0.2862\n",
      "Epoch 63, Loss: 0.2701\n",
      "Epoch 64, Loss: 0.2684\n",
      "Epoch 65, Loss: 0.3310\n",
      "Epoch 66, Loss: 0.2679\n",
      "Epoch 67, Loss: 0.2701\n",
      "Epoch 68, Loss: 0.2642\n",
      "Epoch 69, Loss: 0.2672\n",
      "Epoch 70, Loss: 0.3446\n",
      "Epoch 71, Loss: 0.2706\n",
      "Epoch 72, Loss: 0.2746\n",
      "Epoch 73, Loss: 0.2893\n",
      "Epoch 74, Loss: 0.2655\n",
      "Epoch 75, Loss: 0.3293\n",
      "Epoch 76, Loss: 0.2678\n",
      "Epoch 77, Loss: 0.2848\n",
      "Epoch 78, Loss: 0.2745\n",
      "Epoch 79, Loss: 0.2637\n",
      "Epoch 80, Loss: 0.3027\n",
      "Epoch 81, Loss: 0.2556\n",
      "Epoch 82, Loss: 0.2725\n",
      "Epoch 83, Loss: 0.2677\n",
      "Epoch 84, Loss: 0.2611\n",
      "Epoch 85, Loss: 0.2719\n",
      "Epoch 86, Loss: 0.2870\n",
      "Epoch 87, Loss: 0.2585\n",
      "Epoch 88, Loss: 0.2690\n",
      "Epoch 89, Loss: 0.2586\n",
      "Epoch 90, Loss: 0.2655\n",
      "Epoch 91, Loss: 0.2969\n",
      "Epoch 92, Loss: 0.3520\n",
      "Epoch 93, Loss: 0.2684\n",
      "Epoch 94, Loss: 0.2691\n",
      "Epoch 95, Loss: 0.3097\n",
      "Epoch 96, Loss: 0.2617\n",
      "Epoch 97, Loss: 0.2620\n",
      "Epoch 98, Loss: 0.3036\n",
      "Epoch 99, Loss: 0.2615\n",
      "Epoch 100, Loss: 0.2656\n",
      "Epoch 101, Loss: 0.2816\n",
      "Epoch 102, Loss: 0.3034\n",
      "Epoch 103, Loss: 0.2566\n",
      "Epoch 104, Loss: 0.2768\n",
      "Epoch 105, Loss: 0.3039\n",
      "Epoch 106, Loss: 0.2903\n",
      "Epoch 107, Loss: 0.2678\n",
      "Epoch 108, Loss: 0.2548\n",
      "Epoch 109, Loss: 0.2872\n",
      "Epoch 110, Loss: 0.2658\n",
      "Epoch 111, Loss: 0.2726\n",
      "Epoch 112, Loss: 0.2731\n",
      "Epoch 113, Loss: 0.2653\n",
      "Epoch 114, Loss: 0.2855\n",
      "Epoch 115, Loss: 0.2654\n",
      "Epoch 116, Loss: 0.2678\n",
      "Epoch 117, Loss: 0.3369\n",
      "Epoch 118, Loss: 0.2849\n",
      "Epoch 119, Loss: 0.2676\n",
      "Epoch 120, Loss: 0.2806\n",
      "Epoch 121, Loss: 0.2962\n",
      "Epoch 122, Loss: 0.2607\n",
      "Epoch 123, Loss: 0.2861\n",
      "Epoch 124, Loss: 0.2544\n",
      "Epoch 125, Loss: 0.2751\n",
      "Epoch 126, Loss: 0.2719\n",
      "Epoch 127, Loss: 0.2731\n",
      "Epoch 128, Loss: 0.2950\n",
      "Epoch 129, Loss: 0.2678\n",
      "Epoch 130, Loss: 0.2760\n",
      "Epoch 131, Loss: 0.2696\n",
      "Epoch 132, Loss: 0.2639\n",
      "Epoch 133, Loss: 0.2674\n",
      "Epoch 134, Loss: 0.2749\n",
      "Epoch 135, Loss: 0.2668\n",
      "Epoch 136, Loss: 0.2560\n",
      "Epoch 137, Loss: 0.2580\n",
      "Epoch 138, Loss: 0.2626\n",
      "Epoch 139, Loss: 0.2519\n",
      "Epoch 140, Loss: 0.2539\n",
      "Epoch 141, Loss: 0.3021\n",
      "Epoch 142, Loss: 0.2792\n",
      "Epoch 143, Loss: 0.2551\n",
      "Epoch 144, Loss: 0.3167\n",
      "Epoch 145, Loss: 0.2699\n",
      "Epoch 146, Loss: 0.2605\n",
      "Epoch 147, Loss: 0.2714\n",
      "Epoch 148, Loss: 0.2475\n",
      "Epoch 149, Loss: 0.2613\n",
      "Epoch 150, Loss: 0.2598\n",
      "Epoch 151, Loss: 0.2701\n",
      "Epoch 152, Loss: 0.2899\n",
      "Epoch 153, Loss: 0.2730\n",
      "Epoch 154, Loss: 0.2681\n",
      "Epoch 155, Loss: 0.2567\n",
      "Epoch 156, Loss: 0.2867\n",
      "Epoch 157, Loss: 0.2811\n",
      "Epoch 158, Loss: 0.2653\n",
      "Epoch 159, Loss: 0.2536\n",
      "Epoch 160, Loss: 0.2937\n",
      "Epoch 161, Loss: 0.2550\n",
      "Epoch 162, Loss: 0.2589\n",
      "Epoch 163, Loss: 0.3025\n",
      "Epoch 164, Loss: 0.2618\n",
      "Epoch 165, Loss: 0.2570\n",
      "Epoch 166, Loss: 0.2487\n",
      "Epoch 167, Loss: 0.3321\n",
      "Epoch 168, Loss: 0.3072\n",
      "Epoch 169, Loss: 0.2668\n",
      "Epoch 170, Loss: 0.2596\n",
      "Epoch 171, Loss: 0.2601\n",
      "Epoch 172, Loss: 0.2625\n",
      "Epoch 173, Loss: 0.2614\n",
      "Epoch 174, Loss: 0.2547\n",
      "Epoch 175, Loss: 0.2639\n",
      "Epoch 176, Loss: 0.2681\n",
      "Epoch 177, Loss: 0.2610\n",
      "Epoch 178, Loss: 0.2585\n",
      "Epoch 179, Loss: 0.2885\n",
      "Epoch 180, Loss: 0.2500\n",
      "Epoch 181, Loss: 0.2811\n",
      "Epoch 182, Loss: 0.3455\n",
      "Epoch 183, Loss: 0.3102\n",
      "Epoch 184, Loss: 0.2795\n",
      "Epoch 185, Loss: 0.2822\n",
      "Epoch 186, Loss: 0.2628\n",
      "Epoch 187, Loss: 0.2614\n",
      "Epoch 188, Loss: 0.2621\n",
      "Epoch 189, Loss: 0.2690\n",
      "Epoch 190, Loss: 0.2784\n",
      "Epoch 191, Loss: 0.2732\n",
      "Epoch 192, Loss: 0.3299\n",
      "Epoch 193, Loss: 0.3161\n",
      "Epoch 194, Loss: 0.3414\n",
      "Epoch 195, Loss: 0.2649\n",
      "Epoch 196, Loss: 0.2610\n",
      "Epoch 197, Loss: 0.2558\n",
      "Epoch 198, Loss: 0.3217\n",
      "Epoch 199, Loss: 0.2824\n",
      "Epoch 200, Loss: 0.2556\n"
     ]
    }
   ],
   "source": [
    "# Training Loop\n",
    "for epoch in range(200):\n",
    "    train_loss = train()\n",
    "    print(f\"Epoch {epoch + 1}, Loss: {train_loss:.4f}\")"
   ]
  },
  {
   "cell_type": "code",
   "execution_count": 122,
   "metadata": {
    "execution": {
     "iopub.execute_input": "2025-03-25T17:05:58.800097Z",
     "iopub.status.busy": "2025-03-25T17:05:58.799724Z",
     "iopub.status.idle": "2025-03-25T17:05:58.839741Z",
     "shell.execute_reply": "2025-03-25T17:05:58.838717Z",
     "shell.execute_reply.started": "2025-03-25T17:05:58.800064Z"
    }
   },
   "outputs": [
    {
     "name": "stdout",
     "output_type": "stream",
     "text": [
      "Accuracy: 0.926829268292683\n",
      "\n",
      "Classification Report:\n",
      "               precision    recall  f1-score   support\n",
      "\n",
      "         0.0       1.00      0.14      0.25         7\n",
      "         1.0       0.93      1.00      0.96        75\n",
      "\n",
      "    accuracy                           0.93        82\n",
      "   macro avg       0.96      0.57      0.61        82\n",
      "weighted avg       0.93      0.93      0.90        82\n",
      "\n",
      "\n",
      "Confusion Matrix:\n",
      " [[ 1  6]\n",
      " [ 0 75]]\n"
     ]
    }
   ],
   "source": [
    "# Evaluate model\n",
    "y_true, y_pred = evaluate(test_loader)\n",
    "\n",
    "print(\"Accuracy:\", accuracy_score(y_true, y_pred))\n",
    "print(\"\\nClassification Report:\\n\", classification_report(y_true, y_pred))\n",
    "print(\"\\nConfusion Matrix:\\n\", confusion_matrix(y_true, y_pred))"
   ]
  },
  {
   "cell_type": "code",
   "execution_count": null,
   "metadata": {},
   "outputs": [],
   "source": [
    "# Predict and Save Results\n",
    "def predict_and_save(df, output_file):\n",
    "    results = []\n",
    "    for smiles in df['smiles']:\n",
    "        mol = Chem.MolFromSmiles(smiles)\n",
    "        if mol:\n",
    "            graph = mol_to_graph(smiles, 0)\n",
    "            graph = graph.to(device)\n",
    "            model.eval()\n",
    "            with torch.no_grad():\n",
    "                pred = model(graph).item()\n",
    "                label = \"ACTIVE\" if pred >= 0.5 else \"INACTIVE\"\n",
    "                results.append([smiles, label, pred])\n",
    "        else:\n",
    "            results.append([smiles, \"Invalid SMILES\", None])\n",
    "\n",
    "    # Save to CSV\n",
    "    results_df = pd.DataFrame(results, columns=[\"smiles\", \"binding_affinity\", \"confidence\"])\n",
    "    results_df.to_csv(output_file, index=False)\n",
    "    print(f\"Results saved to {output_file}\")\n",
    "\n",
    "# Predict for entire dataset and save results\n",
    "output_file_path = r\"/kaggle/working/binding_affinity_results_gnn.csv\"\n",
    "predict_and_save(df_target, output_file_path)"
   ]
  }
 ],
 "metadata": {
  "kaggle": {
   "accelerator": "none",
   "dataSources": [
    {
     "datasetId": 6965434,
     "sourceId": 11162545,
     "sourceType": "datasetVersion"
    }
   ],
   "dockerImageVersionId": 30918,
   "isGpuEnabled": false,
   "isInternetEnabled": true,
   "language": "python",
   "sourceType": "notebook"
  },
  "kernelspec": {
   "display_name": "Python 3 (ipykernel)",
   "language": "python",
   "name": "python3"
  },
  "language_info": {
   "codemirror_mode": {
    "name": "ipython",
    "version": 3
   },
   "file_extension": ".py",
   "mimetype": "text/x-python",
   "name": "python",
   "nbconvert_exporter": "python",
   "pygments_lexer": "ipython3",
   "version": "3.12.4"
  }
 },
 "nbformat": 4,
 "nbformat_minor": 4
}
